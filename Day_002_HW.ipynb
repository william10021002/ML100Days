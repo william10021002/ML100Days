{
 "cells": [
  {
   "cell_type": "markdown",
   "metadata": {},
   "source": [
    "## [作業目標]\n",
    "了解機器學習適合應用的領域與範疇。"
   ]
  },
  {
   "cell_type": "markdown",
   "metadata": {},
   "source": [
    "## [作業重點]\n",
    "透過瞭解機器學習的運作方式，找出非常適用機器學習應用的領域及其原因"
   ]
  },
  {
   "cell_type": "markdown",
   "metadata": {},
   "source": [
    "## 作業\n",
    "請找出一個你認為機器學習可以發光發熱的領域並闡述原因? "
   ]
  },
  {
   "cell_type": "code",
   "execution_count": null,
   "metadata": {},
   "outputs": [],
   "source": [
    "機器學習姑且區分為預測與取代，\n",
    "預測指的是利用過往數據，預知未來可能發生的事，藉以事先部署。\n",
    "取代即為以人工智慧執行現有工作，諸如目前勞力密集的工作，或機師開飛機，空服員班表安排。\n",
    "\n",
    "目前建築業、室內設計等產業皆需要專業人士之設計與構想，利用機器學習建築設計圖，並根據各國法規調整參數，根據顧客喜好相關性生成室內設計圖。\n",
    "大幅減少建築師工作時間，減少設計師的人力成本或訓練時間...等。"
   ]
  }
 ],
 "metadata": {
  "kernelspec": {
   "display_name": "Python 3",
   "language": "python",
   "name": "python3"
  },
  "language_info": {
   "codemirror_mode": {
    "name": "ipython",
    "version": 3
   },
   "file_extension": ".py",
   "mimetype": "text/x-python",
   "name": "python",
   "nbconvert_exporter": "python",
   "pygments_lexer": "ipython3",
   "version": "3.6.5"
  }
 },
 "nbformat": 4,
 "nbformat_minor": 2
}
